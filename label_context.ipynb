{
 "cells": [
  {
   "cell_type": "markdown",
   "metadata": {},
   "source": [
    "### 忘记这页是干啥的了。。"
   ]
  },
  {
   "cell_type": "code",
   "execution_count": 27,
   "metadata": {},
   "outputs": [
    {
     "name": "stderr",
     "output_type": "stream",
     "text": [
      "GET http://123.206.13.101:59200/toutiao_bl2/news/6585014543854862852?_source=title%2Ccontent [status:404 request:0.041s]\n"
     ]
    },
    {
     "name": "stdout",
     "output_type": "stream",
     "text": [
      "./TouTiao_testdata1/7.txt\n"
     ]
    }
   ],
   "source": [
    "# coding: utf-8\n",
    "\n",
    "from logger import getLogger\n",
    "import pymysql\n",
    "from config import MYSQL_DEVELOPMENT\n",
    "\n",
    "logger = getLogger(__name__)\n",
    "conn = pymysql.connect(\n",
    "    **MYSQL_DEVELOPMENT,\n",
    "    cursorclass=pymysql.cursors.DictCursor,\n",
    "    autocommit=True\n",
    ")\n",
    "cursor = conn.cursor()\n",
    "\n",
    "\n",
    "def get(es_index, es_id):\n",
    "    from es import es\n",
    "    data = es.get(es_index, 'news', es_id, ignore=400, _source=['title', 'content'])\n",
    "\n",
    "    _source = data['_source']\n",
    "    return {\n",
    "        'es_id': es_id,\n",
    "        'es_index': es_index,\n",
    "        'content': _source['content'],\n",
    "        'title': _source['title']\n",
    "    }\n",
    "\n",
    "\n",
    "# 拆分为句子\n",
    "def sentencesMaker(html):\n",
    "    sentences = []\n",
    "    if not html or not html.strip():\n",
    "        return sentences\n",
    "    try:\n",
    "        from html.parser import unescape\n",
    "        html = unescape(html)\n",
    "\n",
    "        import justext\n",
    "        paragraphs = justext.justext(html, [])\n",
    "\n",
    "        cache_sentences = ''\n",
    "\n",
    "        for p in paragraphs:\n",
    "            sent = p.text.strip().replace('\\xa0', '').replace('\\u3000', '')\n",
    "            sent = sent.encode('gb2312', 'ignore').decode('gb2312').encode('gbk', 'ignore').decode('gbk')\n",
    "            if not sent:\n",
    "                continue\n",
    "\n",
    "            # 可能是含有名字，需要进一步处理\n",
    "            if len(cache_sentences) < 5:\n",
    "                cache_sentences += ' ' + sent\n",
    "            else:\n",
    "                sentences.append(cache_sentences.strip())\n",
    "                cache_sentences = sent\n",
    "\n",
    "        if not not cache_sentences:\n",
    "            sentences.append(cache_sentences.strip())\n",
    "    except Exception as e:\n",
    "        logger.error(e)\n",
    "\n",
    "    return sentences\n",
    "\n",
    "\n",
    "# dlist = [\"36kr\"]  # \"36kr\", , \"JinRiTouTiao\", \"Wechat\"\n",
    "\n",
    "if __name__ == '__main__':\n",
    "    i = 1\n",
    "    with open(\"./TouTiao_testdata1_datalist.txt\", \"r\") as output:\n",
    "        for line in output:\n",
    "            if line:\n",
    "                try:\n",
    "                    es_id = line.strip()\n",
    "                    es_index = \"toutiao_bl2\"\n",
    "                    data = get(es_index, es_id)\n",
    "                    with open(\"./TouTiao_testdata1/%s.txt\" % i, \"w\", encoding=\"utf-8\") as output:\n",
    "                        output.write(data['title'] + \"\\n\")\n",
    "                        output.write(\"，\".join(sentencesMaker(data['content'])) + \"\\n\")\n",
    "                        i += 1\n",
    "                except Exception as e:\n",
    "                    print(\"./TouTiao_testdata1/%s.txt\" % i)"
   ]
  },
  {
   "cell_type": "code",
   "execution_count": 28,
   "metadata": {},
   "outputs": [
    {
     "name": "stdout",
     "output_type": "stream",
     "text": [
      "199\n"
     ]
    }
   ],
   "source": [
    "'''\n",
    "    查看共取下来多少篇文章，有的可能数据库中就是空的\n",
    "'''\n",
    "import os\n",
    "print(len(os.listdir(\"./TouTiao_testdata1\")))"
   ]
  },
  {
   "cell_type": "code",
   "execution_count": 29,
   "metadata": {},
   "outputs": [],
   "source": [
    "'''\n",
    "    在取下来的每篇文章最后一行加上类别标识，1/0\n",
    "'''\n",
    "import os\n",
    "for file in os.listdir(\"./TouTiao_testdata1\"):\n",
    "    if file.split(\".\")[0].isdigit():\n",
    "        data = open(\"./TouTiao_testdata1/%s\" % file, \"a\", encoding=\"utf-8\")\n",
    "        data.write(\"0\")\n",
    "        data.close()"
   ]
  },
  {
   "cell_type": "code",
   "execution_count": 30,
   "metadata": {},
   "outputs": [
    {
     "name": "stdout",
     "output_type": "stream",
     "text": [
      "[]\n",
      "0\n"
     ]
    }
   ],
   "source": [
    "'''\n",
    "    查看有多少篇文章不是三行格式\n",
    "'''\n",
    "import os\n",
    "number = []\n",
    "for file in os.listdir(\"./TouTiao_testdata1\"):\n",
    "    if file.split(\".\")[0].isdigit():\n",
    "        f = open(\"./TouTiao_testdata1/%s\" % file, \"r\", encoding=\"utf-8\")\n",
    "        data = f.readlines()\n",
    "        if len(data) != 3:\n",
    "            number.append(file)\n",
    "            print(\"./TouTiao_testdata1/%s\" % file)\n",
    "            print(len(data))\n",
    "            print(\"*******************************************************\")\n",
    "        f.close()\n",
    "print(number)\n",
    "print(len(number))"
   ]
  },
  {
   "cell_type": "code",
   "execution_count": 31,
   "metadata": {},
   "outputs": [],
   "source": [
    "'''\n",
    "    将非三行格式的数据删除\n",
    "'''\n",
    "import os\n",
    "\n",
    "for file in os.listdir(\"./TouTiao_testdata1\"):\n",
    "    if file in number:\n",
    "        os.remove(\"./TouTiao_testdata1/%s\" % file)"
   ]
  },
  {
   "cell_type": "code",
   "execution_count": 32,
   "metadata": {},
   "outputs": [
    {
     "name": "stdout",
     "output_type": "stream",
     "text": [
      "199\n"
     ]
    }
   ],
   "source": [
    "'''\n",
    "    训练集中新加入5227个负样本\n",
    "'''\n",
    "print(len(os.listdir(\"./TouTiao_testdata1\")))"
   ]
  },
  {
   "cell_type": "code",
   "execution_count": 33,
   "metadata": {},
   "outputs": [],
   "source": [
    "import os\n",
    "\n",
    "inputs = open(\"./TouTiao_testdata1_format.txt\", \"w\", encoding=\"utf-8\")\n",
    "\n",
    "for file in os.listdir(\"./TouTiao_testdata1\"):\n",
    "#     print(len(os.listdir(\"./Wechat_negative1\")))\n",
    "    if file.split(\".\")[0].isdigit():\n",
    "        data = open(\"./TouTiao_testdata1/%s\" % file, \"r\", encoding=\"utf-8\")\n",
    "        text = []\n",
    "        i = 1\n",
    "        label = \"\"\n",
    "        for line in data:\n",
    "            if line and i < 3:\n",
    "                text.append(line.strip())\n",
    "                i += 1\n",
    "            elif line and i == 3:\n",
    "                label = line\n",
    "            elif line and i > 3:\n",
    "                print(\"***************************\")\n",
    "                print(\"./TouTiao_testdata1/%s\" % file)\n",
    "                print(\"***************************\")\n",
    "#         print(\"。\".join(text))\n",
    "\n",
    "        inputs.write(str(label) + \"\\t\" +\"。\".join(text) + \"\\n\")"
   ]
  },
  {
   "cell_type": "code",
   "execution_count": null,
   "metadata": {},
   "outputs": [],
   "source": []
  }
 ],
 "metadata": {
  "kernelspec": {
   "display_name": "Python 3",
   "language": "python",
   "name": "python3"
  },
  "language_info": {
   "codemirror_mode": {
    "name": "ipython",
    "version": 3
   },
   "file_extension": ".py",
   "mimetype": "text/x-python",
   "name": "python",
   "nbconvert_exporter": "python",
   "pygments_lexer": "ipython3",
   "version": "3.6.5"
  }
 },
 "nbformat": 4,
 "nbformat_minor": 2
}
