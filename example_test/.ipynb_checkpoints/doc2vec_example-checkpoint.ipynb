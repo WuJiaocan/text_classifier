{
 "cells": [
  {
   "cell_type": "code",
   "execution_count": 18,
   "metadata": {},
   "outputs": [],
   "source": [
    "#coding:utf-8\n",
    "import jieba\n",
    "import sys\n",
    "import gensim\n",
    "import sklearn\n",
    "import numpy as np\n",
    "from gensim.models.doc2vec import Doc2Vec, LabeledSentence\n",
    "TaggededDocument = gensim.models.doc2vec.TaggedDocument"
   ]
  },
  {
   "cell_type": "code",
   "execution_count": 45,
   "metadata": {},
   "outputs": [],
   "source": [
    "#进行中文分词\n",
    "def  cut_files():\n",
    "    filePath = 'doc2vect_test.txt'\n",
    "    fr = open(filePath, 'r');\n",
    "    fvideo = open('doc2vect_test_cutword.txt', \"w\", encoding=\"utf-8\");\n",
    "    fileTrainSeg = []\n",
    "    for line in fr.readlines():\n",
    "        curLine =' '.join([word for word in jieba.cut(line.strip().split(\"\\t\")[1])])\n",
    "        fvideo.writelines(str(curLine) + \"\\n\")\n"
   ]
  },
  {
   "cell_type": "code",
   "execution_count": 78,
   "metadata": {},
   "outputs": [],
   "source": [
    "#读取分词后的数据并打标记，放到x_train供后续索引，但是这样的话占用很大内存（这种小数据量使用）\n",
    "def get_datasest():\n",
    "    with open(\"doc2vect_test_cutword.txt\", 'r') as cf:\n",
    "        docs = cf.readlines()\n",
    "        print(len(docs))\n",
    "        \n",
    "    x_train = []\n",
    "    for i, text in enumerate(docs):\n",
    "        word_list = text.split(' ')\n",
    "        l = len(word_list)\n",
    "        word_list[l - 1] = word_list[l - 1].strip()\n",
    "        document = TaggededDocument(word_list, tags=[i])  # TaggedLineDocument  TaggededDocument \n",
    "        x_train.append(document)\n",
    "        \n",
    "    return x_train"
   ]
  },
  {
   "cell_type": "code",
   "execution_count": 47,
   "metadata": {},
   "outputs": [],
   "source": [
    "#模型训练\n",
    "def train(x_train, size=200, epoch_num=1):\n",
    "    model_dm = Doc2Vec(x_train, min_count=1, window=3, size=size, sample=1e-3, negative=5, workers=4)\n",
    "    model_dm.save('./model_dm_doc2vec')\n",
    "    \n",
    "    return model_dm"
   ]
  },
  {
   "cell_type": "code",
   "execution_count": 50,
   "metadata": {},
   "outputs": [],
   "source": [
    "#实例\n",
    "def test():\n",
    "    model_dm = Doc2Vec.load(\"./model_dm_doc2vec\")\n",
    "    test_text = ['我', '想', '听', '故事']\n",
    "    inferred_vector_dm = model_dm.infer_vector(test_text)\n",
    "    sims = model_dm.docvecs.most_similar([inferred_vector_dm], topn=10)\n",
    "    return sims"
   ]
  },
  {
   "cell_type": "code",
   "execution_count": 79,
   "metadata": {},
   "outputs": [
    {
     "name": "stderr",
     "output_type": "stream",
     "text": [
      "/home/wujiaocan/anaconda3/lib/python3.6/site-packages/gensim/models/doc2vec.py:535: UserWarning: The parameter `size` is deprecated, will be removed in 4.0.0, use `vector_size` instead.\n",
      "  warnings.warn(\"The parameter `size` is deprecated, will be removed in 4.0.0, use `vector_size` instead.\")\n",
      "2018-08-23 06:28:00,219 : INFO : collecting all words and their counts\n",
      "2018-08-23 06:28:00,219 : INFO : PROGRESS: at example #0, processed 0 words (0/s), 0 word types, 0 tags\n",
      "2018-08-23 06:28:00,220 : INFO : collected 671 word types and 1 unique tags from a corpus of 1 examples and 1580 words\n",
      "2018-08-23 06:28:00,221 : INFO : Loading a fresh vocabulary\n",
      "2018-08-23 06:28:00,223 : INFO : effective_min_count=1 retains 671 unique words (100% of original 671, drops 0)\n",
      "2018-08-23 06:28:00,224 : INFO : effective_min_count=1 leaves 1580 word corpus (100% of original 1580, drops 0)\n",
      "2018-08-23 06:28:00,226 : INFO : deleting the raw counts dictionary of 671 items\n",
      "2018-08-23 06:28:00,227 : INFO : sample=0.001 downsamples 46 most-common words\n",
      "2018-08-23 06:28:00,227 : INFO : downsampling leaves estimated 1092 word corpus (69.1% of prior 1580)\n",
      "2018-08-23 06:28:00,229 : INFO : estimated required memory for 671 words and 200 dimensions: 1409900 bytes\n",
      "2018-08-23 06:28:00,230 : INFO : resetting layer weights\n",
      "2018-08-23 06:28:00,241 : INFO : training model with 4 workers on 671 vocabulary and 200 features, using sg=0 hs=0 sample=0.001 negative=5 window=3\n",
      "2018-08-23 06:28:00,244 : INFO : worker thread finished; awaiting finish of 3 more threads\n",
      "2018-08-23 06:28:00,245 : INFO : worker thread finished; awaiting finish of 2 more threads\n",
      "2018-08-23 06:28:00,245 : INFO : worker thread finished; awaiting finish of 1 more threads\n",
      "2018-08-23 06:28:00,246 : INFO : worker thread finished; awaiting finish of 0 more threads\n",
      "2018-08-23 06:28:00,247 : INFO : EPOCH - 1 : training on 1580 raw words (1082 effective words) took 0.0s, 330554 effective words/s\n",
      "2018-08-23 06:28:00,251 : INFO : worker thread finished; awaiting finish of 3 more threads\n",
      "2018-08-23 06:28:00,251 : INFO : worker thread finished; awaiting finish of 2 more threads\n",
      "2018-08-23 06:28:00,252 : INFO : worker thread finished; awaiting finish of 1 more threads\n",
      "2018-08-23 06:28:00,254 : INFO : worker thread finished; awaiting finish of 0 more threads\n",
      "2018-08-23 06:28:00,255 : INFO : EPOCH - 2 : training on 1580 raw words (1083 effective words) took 0.0s, 263052 effective words/s\n",
      "2018-08-23 06:28:00,257 : INFO : worker thread finished; awaiting finish of 3 more threads\n",
      "2018-08-23 06:28:00,258 : INFO : worker thread finished; awaiting finish of 2 more threads\n",
      "2018-08-23 06:28:00,259 : INFO : worker thread finished; awaiting finish of 1 more threads\n",
      "2018-08-23 06:28:00,260 : INFO : worker thread finished; awaiting finish of 0 more threads\n",
      "2018-08-23 06:28:00,260 : INFO : EPOCH - 3 : training on 1580 raw words (1092 effective words) took 0.0s, 330584 effective words/s\n",
      "2018-08-23 06:28:00,264 : INFO : worker thread finished; awaiting finish of 3 more threads\n",
      "2018-08-23 06:28:00,264 : INFO : worker thread finished; awaiting finish of 2 more threads\n",
      "2018-08-23 06:28:00,265 : INFO : worker thread finished; awaiting finish of 1 more threads\n",
      "2018-08-23 06:28:00,267 : INFO : worker thread finished; awaiting finish of 0 more threads\n",
      "2018-08-23 06:28:00,268 : INFO : EPOCH - 4 : training on 1580 raw words (1086 effective words) took 0.0s, 246585 effective words/s\n",
      "2018-08-23 06:28:00,271 : INFO : worker thread finished; awaiting finish of 3 more threads\n",
      "2018-08-23 06:28:00,271 : INFO : worker thread finished; awaiting finish of 2 more threads\n",
      "2018-08-23 06:28:00,272 : INFO : worker thread finished; awaiting finish of 1 more threads\n",
      "2018-08-23 06:28:00,274 : INFO : worker thread finished; awaiting finish of 0 more threads\n",
      "2018-08-23 06:28:00,275 : INFO : EPOCH - 5 : training on 1580 raw words (1096 effective words) took 0.0s, 278222 effective words/s\n",
      "2018-08-23 06:28:00,275 : INFO : training on a 7900 raw words (5439 effective words) took 0.0s, 162610 effective words/s\n",
      "2018-08-23 06:28:00,276 : WARNING : under 10 jobs per worker: consider setting a smaller `batch_words' for smoother alpha decay\n",
      "2018-08-23 06:28:00,276 : INFO : saving Doc2Vec object under ./model_dm_doc2vec, separately None\n",
      "2018-08-23 06:28:00,288 : INFO : saved ./model_dm_doc2vec\n",
      "2018-08-23 06:28:00,288 : INFO : loading Doc2Vec object from ./model_dm_doc2vec\n",
      "2018-08-23 06:28:00,297 : INFO : loading vocabulary recursively from ./model_dm_doc2vec.vocabulary.* with mmap=None\n",
      "2018-08-23 06:28:00,298 : INFO : loading trainables recursively from ./model_dm_doc2vec.trainables.* with mmap=None\n",
      "2018-08-23 06:28:00,299 : INFO : loading wv recursively from ./model_dm_doc2vec.wv.* with mmap=None\n",
      "2018-08-23 06:28:00,299 : INFO : loading docvecs recursively from ./model_dm_doc2vec.docvecs.* with mmap=None\n",
      "2018-08-23 06:28:00,300 : INFO : loaded ./model_dm_doc2vec\n",
      "2018-08-23 06:28:00,303 : INFO : precomputing L2-norms of doc weight vectors\n"
     ]
    },
    {
     "name": "stdout",
     "output_type": "stream",
     "text": [
      "1\n",
      "0 0.9535837769508362\n",
      "TaggedDocument(['红', '桔子', '坐', '花轿', '（', '现代', '故事', '）', '。', '一', '', '', '台湾省', '云林县', '郊外', '，', '有座', '依山傍水', '的', '果园', '。', '深秋', '的', '一天', '，', '果园', '主人', '丁', '凡夫', '带', '着', '五岁', '女儿', '小甜甜', '到', '这里', '游玩', '。', '正是', '收获', '季节', '，', '满山满', '树', '红红的', '桔子', '，', '就', '像', '一个个', '小小的', '灯笼', '燃遍', '了', '山坡', '，', '让', '人', '看', '了', '直', '流口水', '，', '乐得', '小甜甜', '欢呼雀跃', '，', '摇着', '小手', '向', '正', '摘', '桔子', '的', '女工', '阿姨', '们', '问好', '。', '，', '小甜甜', '边', '吃', '着', '桔子', '，', '边', '在', '山坡', '上', '追逐', '蝴蝶', '，', '忽然', '看见', '一条', '不知', '从', '谁家', '逃出来', '的', '宠物', '巨蜥', '，', '有', '一米', '多长', '，', '披', '着', '一身', '古铜色', '的', '鳞甲', '，', '摆动', '着', '大', '尾巴', '，', '瞪', '着', '一双', '恶狠狠', '的', '大', '眼睛', '冲', '她', '爬', '来', '。', '小甜甜', '被', '吓', '得', '惊恐', '大叫', '，', '全身', '抖个', '不停', '。', '在', '这', '危急', '时分', '，', '一个', '年轻', '女工', '举着', '一根', '木棒', '挡', '在', '了', '前面', '，', '与', '巨蜥', '对峙', '着', '。', '丁', '凡夫', '闻声', '飞跑', '过来', '抱', '走', '了', '女儿', '，', '果园', '工人', '也', '都', '拿', '起', '工具', '来', '围捕', '巨蜥', '。', '这', '巨蜥', '似乎', '只', '在意', '挡道', '的', '那个', '年轻', '女工', '，', '迈着', '沉重', '的', '大脚', '向', '她', '步步进逼', '，', '年轻', '女工', '踉跄', '着', '步步', '后退', '，', '待', '大家', '用', '袋子', '把', '巨蜥', '套住', '时', '，', '年轻', '女工', '脚下', '一绊', '，', '滚下', '了', '山坡', '。', '，', '年轻', '女工', '伤', '了', '小', '腿骨', '，', '送到', '医院', '治疗', '后', '，', '丁', '凡夫', '就', '将', '她', '接回', '自己', '的', '别墅', '养伤', '。', '年轻', '女工', '叫', '叶青芝', '，', '是', '两年', '前', '偷渡', '来', '的', '大陆', '女', '。', '，', '别墅', '在', '果园', '的', '山脚下', '，', '是', '一座', '仿古', '建筑', '，', '在', '绿树', '掩映', '中', '，', '显得', '幽美', '、', '清静', '。', '丁', '凡夫', '与', '妻子', '离异', '后', '，', '就', '带', '着', '女儿', '居住', '在', '这里', '。', '女儿', '小甜甜', '不', '知道', '妈妈', '在', '哪儿', '，', '总', '盼望着', '有', '一天', '，', '天上', '会', '掉', '下', '一个', '漂亮', '的', '妈妈', '来', '。', '自从', '叶青芝', '住', '在', '别墅', '起', '，', '她', '就', '喜欢', '上', '这个', '脸上', '有', '一对', '酒窝', '的', '漂亮', '阿姨', '。', '，', '一天', '，', '他们', '三人', '都', '在', '大厅', '里', '，', '小甜甜', '说', '：', '“', '阿姨', '，', '谢谢', '你', '救', '了', '我', '，', '我会', '永远', '永远', '喜欢', '你', '的', '。', '”', '她', '爱', '吃', '红', '桔子', '，', '就', '用', '小手', '剥开', '桔子', '一瓣', '一瓣', '地', '放进', '阿姨', '的', '口中', '。', '台湾省', '云林县', '的', '桔子', '甜香', '远近闻名', '，', '叶青芝', '一口', '一口', '吞下去', '，', '简直', '甜', '透了心', '。', '看到', '阿姨', '也', '爱', '吃', '红', '桔子', '，', '小甜甜', '高兴', '极了', '，', '拍', '着', '小手', '唱', '着', '儿歌', '：', '“', '红', '桔子', '，', '坐', '花轿', '，', '新娘子', '，', '莫', '害臊', '…', '…', '”', '这', '儿歌', '又', '诙谐', '又', '好听', '，', '逗得', '叶青芝', '真', '有点', '不好意思', '起来', '。', '，', '叶青芝', '来', '台湾', '两年', '，', '知道', '当地', '有个', '风俗', '，', '就是', '姑娘', '出嫁', '坐', '花轿', '，', '花轿', '里', '要', '装满', '红', '桔子', '，', '以示', '甜甜蜜蜜', '，', '和和美美', '。', '这', '与', '大陆', '自己', '家乡', '的', '传统习俗', '多', '相似', '啊', '，', '只是', '现在', '大陆', '的', '新娘子', '不', '坐', '花轿', '了', '，', '陪嫁', '的', '红', '桔子', '放在', '自行车', '上', '送来', '。', '此时', '，', '小', '甜甜的', '儿歌', '触动', '了', '她', '的', '乡思', '，', '她', '心中', '怎能不', '浮起', '几分', '惆怅', '，', '几分', '哀愁', '呢', '！', '，', '丁', '凡夫', '在', '旁边', '看着', '女儿', '与', '叶青芝', '逗乐', '，', '觉察到', '叶青芝', '神情', '的', '变化', '，', '很', '叫', '他', '心', '有所', '动', '。', '两年', '来', '，', '他', '时常', '关注', '这个', '沉默寡言', '的', '大陆妹', '，', '她', '那', '若即若离', '的', '神态', '，', '特别', '是', '她', '面对', '夕阳', '的', '背影', '，', '让', '他', '感到', '这个', '姑娘', '身上', '弥漫着', '一种', '愁绪', '多多', '的', '感觉', '。', '这次', '他', '目睹', '叶青芝', '冲向', '巨蜥', '，', '救护', '女儿', '小', '甜甜的', '情景', '，', '使', '他', '看到', '了', '叶青芝', '不但', '为', '人', '温顺', '、', '善良', '，', '更', '有', '一颗', '勇敢', '的', '心', '。', '他', '将', '她', '接到', '自己', '的', '别墅', '来', '养伤', '，', '除了', '感恩', '之外', '，', '还', '想', '对', '她', '有', '更深', '的', '了解', '。', '现在', '他们', '咫尺', '相处', '，', '岂能', '不', '与', '她', '说', '几句', '宽怀', '的话', '呢', '？', '，', '他们', '闲聊', '着', '，', '谈得', '最', '多', '的', '是', '红', '桔子', '。', '叶青芝', '说', '大陆', '家乡', '的', '桔子', '更红', '更', '甜', '，', '而', '台湾', '的', '桔子', '颗粒', '更大', '产量', '更', '多', '，', '如果', '两地', '的', '桔树', '进行', '嫁接', '，', '产出', '的', '桔子', '一定', '更加', '喜人', '。', '小甜甜', '在', '旁边', '听得', '似懂非懂', '，', '但', '她', '幼稚', '的', '心', '却', '有', '自己', '的', '想法', '，', '她', '高兴', '地', '叫', '起来', '：', '“', '太好了', '，', '大大的', '红', '桔子', '跟着', '阿姨', '坐', '花轿', '，', '阿姨', '就', '做', '我', '妈妈', '了', '！', '”', '童言无忌', '，', '叶青芝', '倒', '羞', '得', '满脸', '绯红', '…', '…', '，', '见此', '情景', '，', '丁', '凡夫', '更为', '心动', '。', '他', '不是', '个', '贪花恋', '柳之人', '，', '妻子', '因嫌', '他', '缺乏', '生活', '情趣', '，', '一心', '只', '专注', '于', '红', '桔子', '，', '前年', '便', '离', '他', '而', '去', '。', '而', '朋友', '们', '为', '他', '介绍', '的', '女子', '，', '没', '一个', '与', '他', '志趣相投', '。', '眼下', '唯一', '能', '拨动', '他', '心弦', '的', '，', '就是', '这个', '与', '他', '一样', '喜爱', '红', '桔子', '的', '叶青芝', '。', '，', '看见', '叶青芝', '要', '从', '藤椅', '上', '站', '起来', '，', '丁', '凡夫', '就', '上前', '扶', '着', '她', '走', '着', '，', '叶青芝', '伤愈', '后能', '走步', '了', '，', '但', '见', '丁', '凡夫', '搀扶', '她', '，', '顿感', '不', '自然', '，', '她', '喃喃地', '说', '：', '“', '丁先生', '，', '我该', '回去', '了', '，', '我能', '工作', '了', '。', '”', '可以', '看出', '，', '她', '在', '竭力', '压抑', '自己', '内心', '的', '激动', '。', '，', '“', '你', '…', '…', '不', '喜欢', '这里', '？', '”', '丁', '凡夫', '惊诧', '地', '问道', '。', '，', '“', '不', '…', '…', '”', '叶青芝', '显出', '一种', '胆怯', '的', '神态', '。', '，', '“', '我', '…', '…', '不', '勉强', '你', '，', '”', '丁', '凡夫', '心潮', '涌动', '，', '语声', '颤抖地', '说', '，', '“', '青芝', '，', '你', '就', '嫁给', '我', '吧', '！', '”', '，', '两人', '四目', '相对', '，', '叶青芝', '一时', '不知', '该', '如何', '回答', '。', '她', '的', '双眼', '如蒙上', '一层', '阴翳', '，', '低着头', '，', '无声', '地', '转身', '离开', '了', '。', '，', '这一晚', '，', '叶青芝', '彻夜难眠', '，', '独自', '坐等', '天亮', '。', '，', '第二天', '清晨', '，', '叶青芝', '回到', '了', '女工', '宿舍', '。', '不幸', '的', '是', '，', '就', '在', '这', '一天', '，', '她', '和', '几个', '同来', '的', '大陆', '姐妹', '被', '查出', '是', '非法', '入境', '。', '几个', '人', '同时', '被解', '送到', '宜兰', '靖庐', '专门', '拘留', '大陆', '偷渡', '人员', '的', '收容所', '。', '，', '丁', '凡夫', '慌', '了', '。', '白天', '，', '他', '不忍心', '听', '女儿', '小甜甜', '叫', '着', '“', '阿姨', '”', '的', '哭声', '；', '夜晚', '，', '叶青芝', '一颦一笑', '的', '动人', '身影', '，', '似有', '千言万语', '无从说起', '的', '神态', '，', '这', '一切', '似', '利箭', '穿透', '他', '的', '心', '。', '他', '从', '云林', '跑', '到', '宜兰', '，', '找到', '一个', '在靖庐', '收容所', '当', '警官', '的', '同学', '，', '再三', '请求', '，', '见', '了', '叶青芝', '一面', '，', '他', '动情', '地说', '：', '“', '青芝', '，', '我', '一定', '带', '小甜甜', '到', '大陆', '找', '你', '！', '”', '，', '二', '', '', '偷渡', '入台', '人员', '在', '海上', '被', '大陆', '红十字会', '接', '回', '平潭', '码头', '，', '再', '由', '家属', '来', '交付', '2000', '元', '钱', '的', '罚金', '后领', '回家', '。', '叶青芝', '无', '一', '亲人', '，', '谁', '来', '交', '罚金', '接', '她', '回家', '？', '令', '她', '想不到', '的', '是', '，', '有人', '为', '她', '交', '了', '罚金', '。', '还', '开来', '一辆', '小轿车', '把', '她', '接', '走', '。', '，', '开车', '的', '是', '一个', '打扮', '时髦', '的', '女子', '，', '叶青芝', '定睛一看', '，', '竟是', '她', '的', '老同学', '朱红', '杏', '，', '喜得', '她', '差点', '叫', '起来', '。', '在', '车上', '，', '叶青芝', '诉说', '了', '在', '台湾', '的', '经历', '，', '她', '对', '台湾', '没什么', '太深', '的', '印象', '，', '只', '觉得', '那里', '与', '大陆', '家乡', '差不多', '，', '连', '当地', '红', '桔子', '坐', '花轿', '的', '民间', '习俗', '，', '也', '与', '大陆', '家乡', '新娘子', '出嫁', '时', '的', '情景', '一模一样', '。', '，', '车子', '停', '在', '僻静', '的', '一座', '院落', '前', '。', '走进', '大门', '，', '穿过', '院子', '，', '步入', '厅堂', '，', '叶青芝', '的', '脚步', '越来越', '沉重', '，', '她', '巡视', '着', '四周', '，', '天', '哪', '！', '这', '不', '就是', '两年', '前马啸风', '的', '房子', '吗', '？', '她', '怎么', '又', '回到', '这里', '？', '在', '这', '大院里', '，', '她', '被', '诱骗', '，', '被', '迷惑', '，', '以致', '整个', '身心', '遭受', '污辱', '和', '摧残', '。', '往事', '不堪回首', '，', '她', '心跳', '越来越', '剧烈', '，', '阵阵', '热血', '直', '往', '脑门', '上冲', '…', '…', '，', '咚', '！', '咚', '！', '咚', '！', '一阵', '沉重', '的', '脚步声', '踩', '着', '她', '心跳', '的', '节拍', '走来', '，', '当', '她', '回神', '看清', '来', '人', '的', '面目', '时', '，', '她', '真的', '要', '瘫软', '下去', '了', '。', '原来', '来', '人', '竟是', '叶青芝', '日夜', '思念', '的', '恋人', '林', '向阳', '。', '，', '林', '向阳', '上前', '一步', '抱住', '叶青芝', '，', '俯身', '吻', '她', '的', '额头', '，', '吻', '她', '的', '眼睛', '，', '吻', '她', '那', '迷人', '的', '酒窝', '，', '最后', '贴住', '她', '的', '嘴唇', '，', '尽情', '地', '吮吸', '着', '…', '…', '，', '朱红', '杏', '倚', '在', '门柱', '上', '，', '悠闲地', '抽着', '烟', '，', '看着', '两人', '已', '吻', '个', '痛快', '，', '就', '调侃', '地说', '：', '“', '喂', '，', '该', '收工', '了', '吧', '，', '青芝', '旅途劳顿', '，', '要', '先', '冲洗', '一下', '，', '再', '吃', '点', '东西', '。', '”', '，', '林', '向阳', '意犹未尽', '地', '松开', '了', '叶青芝', '，', '他', '愣', '了', '一会儿', '，', '大喝一声', '：', '“', '来', '人', '，', '上红', '桔子', '！', '”', '便', '转身', '消失', '在', '屋后', '。', '，', '叶青芝', '像是', '从', '迷梦', '中', '醒来', '，', '难以相信', '刚才', '发生', '的', '事情', '是', '真实', '的', '。', '此刻', '，', '她', '的', '思想', '和', '她', '的', '目光', '又', '全', '聚焦', '在', '桌上', '那', '一大', '盆', '的', '红', '桔子', '上', '，', '周围', '的', '一切', '仿佛', '都', '消失', '了', '，', '唯有', '红', '桔子', '闪着', '诱人', '的', '光芒', '，', '把', '她', '的', '思绪', '带', '回到', '了', '两年', '前'], [0])\n",
      "红 桔子 坐 花轿 （ 现代 故事 ） 。 一   台湾省 云林县 郊外 ， 有座 依山傍水 的 果园 。 深秋 的 一天 ， 果园 主人 丁 凡夫 带 着 五岁 女儿 小甜甜 到 这里 游玩 。 正是 收获 季节 ， 满山满 树 红红的 桔子 ， 就 像 一个个 小小的 灯笼 燃遍 了 山坡 ， 让 人 看 了 直 流口水 ， 乐得 小甜甜 欢呼雀跃 ， 摇着 小手 向 正 摘 桔子 的 女工 阿姨 们 问好 。 ， 小甜甜 边 吃 着 桔子 ， 边 在 山坡 上 追逐 蝴蝶 ， 忽然 看见 一条 不知 从 谁家 逃出来 的 宠物 巨蜥 ， 有 一米 多长 ， 披 着 一身 古铜色 的 鳞甲 ， 摆动 着 大 尾巴 ， 瞪 着 一双 恶狠狠 的 大 眼睛 冲 她 爬 来 。 小甜甜 被 吓 得 惊恐 大叫 ， 全身 抖个 不停 。 在 这 危急 时分 ， 一个 年轻 女工 举着 一根 木棒 挡 在 了 前面 ， 与 巨蜥 对峙 着 。 丁 凡夫 闻声 飞跑 过来 抱 走 了 女儿 ， 果园 工人 也 都 拿 起 工具 来 围捕 巨蜥 。 这 巨蜥 似乎 只 在意 挡道 的 那个 年轻 女工 ， 迈着 沉重 的 大脚 向 她 步步进逼 ， 年轻 女工 踉跄 着 步步 后退 ， 待 大家 用 袋子 把 巨蜥 套住 时 ， 年轻 女工 脚下 一绊 ， 滚下 了 山坡 。 ， 年轻 女工 伤 了 小 腿骨 ， 送到 医院 治疗 后 ， 丁 凡夫 就 将 她 接回 自己 的 别墅 养伤 。 年轻 女工 叫 叶青芝 ， 是 两年 前 偷渡 来 的 大陆 女 。 ， 别墅 在 果园 的 山脚下 ， 是 一座 仿古 建筑 ， 在 绿树 掩映 中 ， 显得 幽美 、 清静 。 丁 凡夫 与 妻子 离异 后 ， 就 带 着 女儿 居住 在 这里 。 女儿 小甜甜 不 知道 妈妈 在 哪儿 ， 总 盼望着 有 一天 ， 天上 会 掉 下 一个 漂亮 的 妈妈 来 。 自从 叶青芝 住 在 别墅 起 ， 她 就 喜欢 上 这个 脸上 有 一对 酒窝 的 漂亮 阿姨 。 ， 一天 ， 他们 三人 都 在 大厅 里 ， 小甜甜 说 ： “ 阿姨 ， 谢谢 你 救 了 我 ， 我会 永远 永远 喜欢 你 的 。 ” 她 爱 吃 红 桔子 ， 就 用 小手 剥开 桔子 一瓣 一瓣 地 放进 阿姨 的 口中 。 台湾省 云林县 的 桔子 甜香 远近闻名 ， 叶青芝 一口 一口 吞下去 ， 简直 甜 透了心 。 看到 阿姨 也 爱 吃 红 桔子 ， 小甜甜 高兴 极了 ， 拍 着 小手 唱 着 儿歌 ： “ 红 桔子 ， 坐 花轿 ， 新娘子 ， 莫 害臊 … … ” 这 儿歌 又 诙谐 又 好听 ， 逗得 叶青芝 真 有点 不好意思 起来 。 ， 叶青芝 来 台湾 两年 ， 知道 当地 有个 风俗 ， 就是 姑娘 出嫁 坐 花轿 ， 花轿 里 要 装满 红 桔子 ， 以示 甜甜蜜蜜 ， 和和美美 。 这 与 大陆 自己 家乡 的 传统习俗 多 相似 啊 ， 只是 现在 大陆 的 新娘子 不 坐 花轿 了 ， 陪嫁 的 红 桔子 放在 自行车 上 送来 。 此时 ， 小 甜甜的 儿歌 触动 了 她 的 乡思 ， 她 心中 怎能不 浮起 几分 惆怅 ， 几分 哀愁 呢 ！ ， 丁 凡夫 在 旁边 看着 女儿 与 叶青芝 逗乐 ， 觉察到 叶青芝 神情 的 变化 ， 很 叫 他 心 有所 动 。 两年 来 ， 他 时常 关注 这个 沉默寡言 的 大陆妹 ， 她 那 若即若离 的 神态 ， 特别 是 她 面对 夕阳 的 背影 ， 让 他 感到 这个 姑娘 身上 弥漫着 一种 愁绪 多多 的 感觉 。 这次 他 目睹 叶青芝 冲向 巨蜥 ， 救护 女儿 小 甜甜的 情景 ， 使 他 看到 了 叶青芝 不但 为 人 温顺 、 善良 ， 更 有 一颗 勇敢 的 心 。 他 将 她 接到 自己 的 别墅 来 养伤 ， 除了 感恩 之外 ， 还 想 对 她 有 更深 的 了解 。 现在 他们 咫尺 相处 ， 岂能 不 与 她 说 几句 宽怀 的话 呢 ？ ， 他们 闲聊 着 ， 谈得 最 多 的 是 红 桔子 。 叶青芝 说 大陆 家乡 的 桔子 更红 更 甜 ， 而 台湾 的 桔子 颗粒 更大 产量 更 多 ， 如果 两地 的 桔树 进行 嫁接 ， 产出 的 桔子 一定 更加 喜人 。 小甜甜 在 旁边 听得 似懂非懂 ， 但 她 幼稚 的 心 却 有 自己 的 想法 ， 她 高兴 地 叫 起来 ： “ 太好了 ， 大大的 红 桔子 跟着 阿姨 坐 花轿 ， 阿姨 就 做 我 妈妈 了 ！ ” 童言无忌 ， 叶青芝 倒 羞 得 满脸 绯红 … … ， 见此 情景 ， 丁 凡夫 更为 心动 。 他 不是 个 贪花恋 柳之人 ， 妻子 因嫌 他 缺乏 生活 情趣 ， 一心 只 专注 于 红 桔子 ， 前年 便 离 他 而 去 。 而 朋友 们 为 他 介绍 的 女子 ， 没 一个 与 他 志趣相投 。 眼下 唯一 能 拨动 他 心弦 的 ， 就是 这个 与 他 一样 喜爱 红 桔子 的 叶青芝 。 ， 看见 叶青芝 要 从 藤椅 上 站 起来 ， 丁 凡夫 就 上前 扶 着 她 走 着 ， 叶青芝 伤愈 后能 走步 了 ， 但 见 丁 凡夫 搀扶 她 ， 顿感 不 自然 ， 她 喃喃地 说 ： “ 丁先生 ， 我该 回去 了 ， 我能 工作 了 。 ” 可以 看出 ， 她 在 竭力 压抑 自己 内心 的 激动 。 ， “ 你 … … 不 喜欢 这里 ？ ” 丁 凡夫 惊诧 地 问道 。 ， “ 不 … … ” 叶青芝 显出 一种 胆怯 的 神态 。 ， “ 我 … … 不 勉强 你 ， ” 丁 凡夫 心潮 涌动 ， 语声 颤抖地 说 ， “ 青芝 ， 你 就 嫁给 我 吧 ！ ” ， 两人 四目 相对 ， 叶青芝 一时 不知 该 如何 回答 。 她 的 双眼 如蒙上 一层 阴翳 ， 低着头 ， 无声 地 转身 离开 了 。 ， 这一晚 ， 叶青芝 彻夜难眠 ， 独自 坐等 天亮 。 ， 第二天 清晨 ， 叶青芝 回到 了 女工 宿舍 。 不幸 的 是 ， 就 在 这 一天 ， 她 和 几个 同来 的 大陆 姐妹 被 查出 是 非法 入境 。 几个 人 同时 被解 送到 宜兰 靖庐 专门 拘留 大陆 偷渡 人员 的 收容所 。 ， 丁 凡夫 慌 了 。 白天 ， 他 不忍心 听 女儿 小甜甜 叫 着 “ 阿姨 ” 的 哭声 ； 夜晚 ， 叶青芝 一颦一笑 的 动人 身影 ， 似有 千言万语 无从说起 的 神态 ， 这 一切 似 利箭 穿透 他 的 心 。 他 从 云林 跑 到 宜兰 ， 找到 一个 在靖庐 收容所 当 警官 的 同学 ， 再三 请求 ， 见 了 叶青芝 一面 ， 他 动情 地说 ： “ 青芝 ， 我 一定 带 小甜甜 到 大陆 找 你 ！ ” ， 二   偷渡 入台 人员 在 海上 被 大陆 红十字会 接 回 平潭 码头 ， 再 由 家属 来 交付 2000 元 钱 的 罚金 后领 回家 。 叶青芝 无 一 亲人 ， 谁 来 交 罚金 接 她 回家 ？ 令 她 想不到 的 是 ， 有人 为 她 交 了 罚金 。 还 开来 一辆 小轿车 把 她 接 走 。 ， 开车 的 是 一个 打扮 时髦 的 女子 ， 叶青芝 定睛一看 ， 竟是 她 的 老同学 朱红 杏 ， 喜得 她 差点 叫 起来 。 在 车上 ， 叶青芝 诉说 了 在 台湾 的 经历 ， 她 对 台湾 没什么 太深 的 印象 ， 只 觉得 那里 与 大陆 家乡 差不多 ， 连 当地 红 桔子 坐 花轿 的 民间 习俗 ， 也 与 大陆 家乡 新娘子 出嫁 时 的 情景 一模一样 。 ， 车子 停 在 僻静 的 一座 院落 前 。 走进 大门 ， 穿过 院子 ， 步入 厅堂 ， 叶青芝 的 脚步 越来越 沉重 ， 她 巡视 着 四周 ， 天 哪 ！ 这 不 就是 两年 前马啸风 的 房子 吗 ？ 她 怎么 又 回到 这里 ？ 在 这 大院里 ， 她 被 诱骗 ， 被 迷惑 ， 以致 整个 身心 遭受 污辱 和 摧残 。 往事 不堪回首 ， 她 心跳 越来越 剧烈 ， 阵阵 热血 直 往 脑门 上冲 … … ， 咚 ！ 咚 ！ 咚 ！ 一阵 沉重 的 脚步声 踩 着 她 心跳 的 节拍 走来 ， 当 她 回神 看清 来 人 的 面目 时 ， 她 真的 要 瘫软 下去 了 。 原来 来 人 竟是 叶青芝 日夜 思念 的 恋人 林 向阳 。 ， 林 向阳 上前 一步 抱住 叶青芝 ， 俯身 吻 她 的 额头 ， 吻 她 的 眼睛 ， 吻 她 那 迷人 的 酒窝 ， 最后 贴住 她 的 嘴唇 ， 尽情 地 吮吸 着 … … ， 朱红 杏 倚 在 门柱 上 ， 悠闲地 抽着 烟 ， 看着 两人 已 吻 个 痛快 ， 就 调侃 地说 ： “ 喂 ， 该 收工 了 吧 ， 青芝 旅途劳顿 ， 要 先 冲洗 一下 ， 再 吃 点 东西 。 ” ， 林 向阳 意犹未尽 地 松开 了 叶青芝 ， 他 愣 了 一会儿 ， 大喝一声 ： “ 来 人 ， 上红 桔子 ！ ” 便 转身 消失 在 屋后 。 ， 叶青芝 像是 从 迷梦 中 醒来 ， 难以相信 刚才 发生 的 事情 是 真实 的 。 此刻 ， 她 的 思想 和 她 的 目光 又 全 聚焦 在 桌上 那 一大 盆 的 红 桔子 上 ， 周围 的 一切 仿佛 都 消失 了 ， 唯有 红 桔子 闪着 诱人 的 光芒 ， 把 她 的 思绪 带 回到 了 两年 前  0.9535837769508362 1580\n"
     ]
    },
    {
     "name": "stderr",
     "output_type": "stream",
     "text": [
      "/home/wujiaocan/anaconda3/lib/python3.6/site-packages/gensim/matutils.py:737: FutureWarning: Conversion of the second argument of issubdtype from `int` to `np.signedinteger` is deprecated. In future, it will be treated as `np.int64 == np.dtype(int).type`.\n",
      "  if np.issubdtype(vec.dtype, np.int):\n"
     ]
    }
   ],
   "source": [
    "if __name__ == '__main__':\n",
    "    cut_files()\n",
    "    x_train=get_datasest()\n",
    "    model_dm = train(x_train)\n",
    "    sims = test()\n",
    "    for count, sim in sims:\n",
    "        print(count,sim) # 0 0.9535837769508362\n",
    "        sentence = x_train[count]\n",
    "        print(sentence)\n",
    "        words = ''\n",
    "        for word in sentence[0]:\n",
    "            words = words + word + ' '\n",
    "        print(words, sim, len(sentence[0]))\n",
    "\n",
    "    #可以用句向量模型直接根据词向量查询相似度\n",
    "#     print(model_dm.wv.most_similar('人工智能'))"
   ]
  },
  {
   "cell_type": "code",
   "execution_count": 57,
   "metadata": {},
   "outputs": [
    {
     "name": "stdout",
     "output_type": "stream",
     "text": [
      "0 ['human', 'interface', 'computer']\n",
      "1 ['survey', 'user', 'computer', 'system', 'response', 'time']\n",
      "2 ['eps', 'user', 'interface', 'system']\n",
      "3 ['system', 'human', 'system', 'eps']\n",
      "4 ['user', 'response', 'time']\n",
      "5 ['trees']\n",
      "6 ['graph', 'trees']\n",
      "7 ['graph', 'minors', 'trees']\n",
      "8 ['graph', 'minors', 'survey']\n"
     ]
    }
   ],
   "source": [
    "from gensim.test.utils import common_texts\n",
    "from gensim.models.doc2vec import Doc2Vec, TaggedDocument\n",
    "for i, doc in enumerate(common_texts):\n",
    "    print(i,doc)"
   ]
  },
  {
   "cell_type": "code",
   "execution_count": 58,
   "metadata": {},
   "outputs": [],
   "source": [
    "documents = [TaggedDocument(doc, [i]) for i, doc in enumerate(common_texts)]"
   ]
  },
  {
   "cell_type": "code",
   "execution_count": 61,
   "metadata": {},
   "outputs": [
    {
     "name": "stdout",
     "output_type": "stream",
     "text": [
      "TaggedDocument(['eps', 'user', 'interface', 'system'], [2])\n"
     ]
    }
   ],
   "source": [
    "print(documents[2])"
   ]
  },
  {
   "cell_type": "code",
   "execution_count": 62,
   "metadata": {},
   "outputs": [
    {
     "name": "stderr",
     "output_type": "stream",
     "text": [
      "2018-08-22 13:23:42,535 : WARNING : consider setting layer size to a multiple of 4 for greater performance\n",
      "2018-08-22 13:23:42,536 : INFO : collecting all words and their counts\n",
      "2018-08-22 13:23:42,536 : INFO : PROGRESS: at example #0, processed 0 words (0/s), 0 word types, 0 tags\n",
      "2018-08-22 13:23:42,537 : INFO : collected 12 word types and 9 unique tags from a corpus of 9 examples and 29 words\n",
      "2018-08-22 13:23:42,538 : INFO : Loading a fresh vocabulary\n",
      "2018-08-22 13:23:42,538 : INFO : effective_min_count=1 retains 12 unique words (100% of original 12, drops 0)\n",
      "2018-08-22 13:23:42,539 : INFO : effective_min_count=1 leaves 29 word corpus (100% of original 29, drops 0)\n",
      "2018-08-22 13:23:42,540 : INFO : deleting the raw counts dictionary of 12 items\n",
      "2018-08-22 13:23:42,540 : INFO : sample=0.001 downsamples 12 most-common words\n",
      "2018-08-22 13:23:42,541 : INFO : downsampling leaves estimated 3 word corpus (12.1% of prior 29)\n",
      "2018-08-22 13:23:42,541 : INFO : estimated required memory for 12 words and 5 dimensions: 6660 bytes\n",
      "2018-08-22 13:23:42,542 : INFO : resetting layer weights\n",
      "2018-08-22 13:23:42,544 : INFO : training model with 4 workers on 12 vocabulary and 5 features, using sg=0 hs=0 sample=0.001 negative=5 window=2\n",
      "2018-08-22 13:23:42,550 : INFO : worker thread finished; awaiting finish of 3 more threads\n",
      "2018-08-22 13:23:42,551 : INFO : worker thread finished; awaiting finish of 2 more threads\n",
      "2018-08-22 13:23:42,551 : INFO : worker thread finished; awaiting finish of 1 more threads\n",
      "2018-08-22 13:23:42,552 : INFO : worker thread finished; awaiting finish of 0 more threads\n",
      "2018-08-22 13:23:42,553 : INFO : EPOCH - 1 : training on 29 raw words (13 effective words) took 0.0s, 4689 effective words/s\n",
      "2018-08-22 13:23:42,557 : INFO : worker thread finished; awaiting finish of 3 more threads\n",
      "2018-08-22 13:23:42,558 : INFO : worker thread finished; awaiting finish of 2 more threads\n",
      "2018-08-22 13:23:42,558 : INFO : worker thread finished; awaiting finish of 1 more threads\n",
      "2018-08-22 13:23:42,559 : INFO : worker thread finished; awaiting finish of 0 more threads\n",
      "2018-08-22 13:23:42,560 : INFO : EPOCH - 2 : training on 29 raw words (12 effective words) took 0.0s, 4067 effective words/s\n",
      "2018-08-22 13:23:42,563 : INFO : worker thread finished; awaiting finish of 3 more threads\n",
      "2018-08-22 13:23:42,564 : INFO : worker thread finished; awaiting finish of 2 more threads\n",
      "2018-08-22 13:23:42,564 : INFO : worker thread finished; awaiting finish of 1 more threads\n",
      "2018-08-22 13:23:42,565 : INFO : worker thread finished; awaiting finish of 0 more threads\n",
      "2018-08-22 13:23:42,566 : INFO : EPOCH - 3 : training on 29 raw words (11 effective words) took 0.0s, 3576 effective words/s\n",
      "2018-08-22 13:23:42,570 : INFO : worker thread finished; awaiting finish of 3 more threads\n",
      "2018-08-22 13:23:42,570 : INFO : worker thread finished; awaiting finish of 2 more threads\n",
      "2018-08-22 13:23:42,571 : INFO : worker thread finished; awaiting finish of 1 more threads\n",
      "2018-08-22 13:23:42,571 : INFO : worker thread finished; awaiting finish of 0 more threads\n",
      "2018-08-22 13:23:42,572 : INFO : EPOCH - 4 : training on 29 raw words (9 effective words) took 0.0s, 2777 effective words/s\n",
      "2018-08-22 13:23:42,576 : INFO : worker thread finished; awaiting finish of 3 more threads\n",
      "2018-08-22 13:23:42,576 : INFO : worker thread finished; awaiting finish of 2 more threads\n",
      "2018-08-22 13:23:42,577 : INFO : worker thread finished; awaiting finish of 1 more threads\n",
      "2018-08-22 13:23:42,578 : INFO : worker thread finished; awaiting finish of 0 more threads\n",
      "2018-08-22 13:23:42,578 : INFO : EPOCH - 5 : training on 29 raw words (15 effective words) took 0.0s, 4959 effective words/s\n",
      "2018-08-22 13:23:42,579 : INFO : training on a 145 raw words (60 effective words) took 0.0s, 1742 effective words/s\n",
      "2018-08-22 13:23:42,580 : WARNING : under 10 jobs per worker: consider setting a smaller `batch_words' for smoother alpha decay\n"
     ]
    }
   ],
   "source": [
    "model = Doc2Vec(documents, vector_size=5, window=2, min_count=1, workers=4)"
   ]
  },
  {
   "cell_type": "code",
   "execution_count": 63,
   "metadata": {},
   "outputs": [],
   "source": [
    "model.delete_temporary_training_data(keep_doctags_vectors=True, keep_inference=True)"
   ]
  },
  {
   "cell_type": "code",
   "execution_count": 64,
   "metadata": {},
   "outputs": [],
   "source": [
    "vector = model.infer_vector([\"system\", \"response\"])"
   ]
  },
  {
   "cell_type": "code",
   "execution_count": 65,
   "metadata": {},
   "outputs": [
    {
     "name": "stdout",
     "output_type": "stream",
     "text": [
      "[-0.09707665 -0.0986575   0.00794978 -0.09011291 -0.09349108]\n"
     ]
    }
   ],
   "source": [
    "print(vector)"
   ]
  },
  {
   "cell_type": "code",
   "execution_count": null,
   "metadata": {},
   "outputs": [],
   "source": []
  }
 ],
 "metadata": {
  "kernelspec": {
   "display_name": "Python 3",
   "language": "python",
   "name": "python3"
  },
  "language_info": {
   "codemirror_mode": {
    "name": "ipython",
    "version": 3
   },
   "file_extension": ".py",
   "mimetype": "text/x-python",
   "name": "python",
   "nbconvert_exporter": "python",
   "pygments_lexer": "ipython3",
   "version": "3.6.5"
  }
 },
 "nbformat": 4,
 "nbformat_minor": 2
}
